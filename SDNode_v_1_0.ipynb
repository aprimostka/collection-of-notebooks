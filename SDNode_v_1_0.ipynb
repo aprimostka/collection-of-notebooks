{
  "nbformat": 4,
  "nbformat_minor": 0,
  "metadata": {
    "colab": {
      "provenance": [],
      "machine_shape": "hm",
      "include_colab_link": true
    },
    "kernelspec": {
      "name": "python3",
      "display_name": "Python 3"
    },
    "language_info": {
      "name": "python"
    },
    "accelerator": "GPU",
    "gpuClass": "standard"
  },
  "cells": [
    {
      "cell_type": "markdown",
      "metadata": {
        "id": "view-in-github",
        "colab_type": "text"
      },
      "source": [
        "<a href=\"https://colab.research.google.com/github/tg-bomze/collection-of-notebooks/blob/master/SDNode_v_1_0.ipynb\" target=\"_parent\"><img src=\"https://colab.research.google.com/assets/colab-badge.svg\" alt=\"Open In Colab\"/></a>"
      ]
    },
    {
      "cell_type": "markdown",
      "source": [
        "<b><font color=\"black\" size=\"+4\">SDNode v.1.0</font></b>\n",
        "\n",
        "![visitors](https://visitor-badge.glitch.me/badge?page_id=mlart.SDNode&left_color=black&right_color=orange)\n",
        "\n",
        "<b><font color=\"black\" size=\"+2\">Based on:</font></b>\n",
        "\n",
        "**GitHub repository**: [ComfyUI](https://github.com/comfyanonymous/ComfyUI)\n",
        "\n",
        "Creator: **[comfyanonymous](https://github.com/comfyanonymous)**\n",
        "\n",
        "<b><font color=\"black\" size=\"+2\">Colab created by:</font></b>\n",
        "\n",
        "GitHub: [@tg-bomze](https://github.com/tg-bomze),\n",
        "Telegram: [@MLArt](https://t.me/MLArt),\n",
        "Twitter: [@tg_bomze](https://twitter.com/tg_bomze).\n",
        "\n",
        "```\n",
        "(ENG) To get started, click on the button (where the red arrow indicates). After clicking, wait until the execution is complete.\n",
        "```\n",
        "```\n",
        "(RUS) Чтобы начать, поочередно нажимайте на кнопки (куда указывают красные стрелки), дожидаясь завершения выполнения каждого блока.\n",
        "```"
      ],
      "metadata": {
        "id": "-F4XdPm6xjQa"
      }
    },
    {
      "cell_type": "code",
      "execution_count": null,
      "metadata": {
        "id": "bbbbbbbbbb",
        "cellView": "form"
      },
      "outputs": [],
      "source": [
        "#@title <b><font color=\"red\" size=\"+3\">←</font><font color=\"black\" size=\"+3\"> Install all necessary libraries</font></b>\n",
        "#@markdown <b><font color=\"black\" size=\"+1\"> (RUS) Установить все необходимые библиотеки</font></b>\n",
        "from IPython.display import clear_output\n",
        "!git clone https://github.com/comfyanonymous/ComfyUI\n",
        "%cd ComfyUI\n",
        "!pip install -r requirements.txt\n",
        "\n",
        "from google.colab import files\n",
        "import os\n",
        "import threading\n",
        "import time\n",
        "import socket\n",
        "def iframe_thread(port):\n",
        "  while True:\n",
        "      time.sleep(0.5)\n",
        "      sock = socket.socket(socket.AF_INET, socket.SOCK_STREAM)\n",
        "      result = sock.connect_ex(('127.0.0.1', port))\n",
        "      if result == 0:\n",
        "        break\n",
        "      sock.close()\n",
        "  from google.colab import output\n",
        "  output.serve_kernel_port_as_iframe(port, height=1024)\n",
        "  # print(\"to open it in a window you can open this link here:\")\n",
        "  # output.serve_kernel_port_as_window(port)\n",
        "\n",
        "clear_output()\n",
        "print('Результаты можно отлавливать в папке /content/ComfyUI/output,\\nлибо перейдя по ссылке (обновляя страницу после каждой генерации):')\n",
        "from google.colab import output\n",
        "output.serve_kernel_port_as_window(8000)\n",
        "get_ipython().system_raw('cd output && python3 -m http.server 8000 &') "
      ]
    },
    {
      "cell_type": "code",
      "source": [
        "#@title <b><font color=\"red\" size=\"+3\">←</font><font color=\"black\" size=\"+3\"> Download models</font></b>\n",
        "#@markdown <b><font color=\"black\" size=\"+1\"> (RUS) Загрузка моделей</font></b>\n",
        "\n",
        "%cd /content/ComfyUI/models/vae/\n",
        "if not os.path.isfile('./vae-ft-mse-840000-ema-pruned.safetensors'):\n",
        "  !wget https://huggingface.co/stabilityai/sd-vae-ft-mse-original/resolve/main/vae-ft-mse-840000-ema-pruned.safetensors\n",
        "  if os.path.isfile('./vae-ft-mse-840000-ema-pruned.safetensors'): clear_output()\n",
        "\n",
        "#@markdown **Note:** Stable Diffusion v1.5 will be downloaded by default\n",
        "\n",
        "%cd /content/ComfyUI/models/checkpoints\n",
        "if not os.path.isfile('./v1-5-pruned-emaonly.ckpt'):\n",
        "  !wget https://huggingface.co/runwayml/stable-diffusion-v1-5/resolve/main/v1-5-pruned-emaonly.ckpt\n",
        "  if os.path.isfile('./v1-5-pruned-emaonly.ckpt'): clear_output()\n",
        "\n",
        "stable_diffusion_v2_0 = False #@param {type:\"boolean\"}\n",
        "if stable_diffusion_v2_0 and (not os.path.isfile('./v2-0-pruned-emaonly.ckpt')):\n",
        "  !wget https://huggingface.co/stabilityai/stable-diffusion-2-base/resolve/main/512-base-ema.ckpt\n",
        "  !mv ./512-base-ema.ckpt ./v2-0-pruned-emaonly.ckpt\n",
        "  if os.path.isfile('./v2-0-pruned-emaonly.ckpt'): clear_output()\n",
        "\n",
        "stable_diffusion_v2_1 = False #@param {type:\"boolean\"}\n",
        "if stable_diffusion_v2_1 and (not os.path.isfile('./v2-1-pruned-emaonly.ckpt')):\n",
        "  !wget https://huggingface.co/stabilityai/stable-diffusion-2-1-base/resolve/main/v2-1_512-ema-pruned.ckpt\n",
        "  !mv ./v2-1_512-ema-pruned.ckpt ./v2-1-pruned-emaonly.ckpt\n",
        "  if os.path.isfile('./v2-1-pruned-emaonly.ckpt'): clear_output()\n",
        "\n",
        "AbyssOrangeMix2_hard = False #@param {type:\"boolean\"}\n",
        "if AbyssOrangeMix2_hard and (not os.path.isfile('./AbyssOrangeMix2_hard.safetensors')):\n",
        "  !wget https://huggingface.co/WarriorMama777/OrangeMixs/resolve/main/Models/AbyssOrangeMix2/AbyssOrangeMix2_hard.safetensors\n",
        "  if os.path.isfile('./AbyssOrangeMix2_hard.safetensors'): clear_output()\n",
        "\n",
        "#@markdown ---\n",
        "\n",
        "%cd /content/ComfyUI/models/controlnet/\n",
        "control_sd15_canny = False #@param {type:\"boolean\"}\n",
        "if control_sd15_canny and (not os.path.isfile('./control_sd15_canny.pth')):\n",
        "  !wget https://huggingface.co/lllyasviel/ControlNet/resolve/main/models/control_sd15_canny.pth\n",
        "  if os.path.isfile('./control_sd15_canny.pth'): clear_output()\n",
        "\n",
        "control_sd15_depth = False #@param {type:\"boolean\"}\n",
        "if control_sd15_depth and (not os.path.isfile('./control_sd15_depth.pth')):\n",
        "  !wget https://huggingface.co/lllyasviel/ControlNet/resolve/main/models/control_sd15_depth.pth\n",
        "  if os.path.isfile('./control_sd15_depth.pth'): clear_output()\n",
        "\n",
        "control_sd15_hed = False #@param {type:\"boolean\"}\n",
        "if control_sd15_hed and (not os.path.isfile('./control_sd15_hed.pth')):\n",
        "  !wget https://huggingface.co/lllyasviel/ControlNet/resolve/main/models/control_sd15_hed.pth\n",
        "  if os.path.isfile('./control_sd15_hed.pth'): clear_output()\n",
        "\n",
        "control_sd15_mlsd = False #@param {type:\"boolean\"}\n",
        "if control_sd15_mlsd and (not os.path.isfile('./control_sd15_mlsd.pth')):\n",
        "  !wget https://huggingface.co/lllyasviel/ControlNet/resolve/main/models/control_sd15_mlsd.pth\n",
        "  if os.path.isfile('./control_sd15_mlsd.pth'): clear_output()\n",
        "\n",
        "control_sd15_normal = False #@param {type:\"boolean\"}\n",
        "if control_sd15_normal and (not os.path.isfile('./control_sd15_normal.pth')):\n",
        "  !wget https://huggingface.co/lllyasviel/ControlNet/resolve/main/models/control_sd15_normal.pth\n",
        "  if os.path.isfile('./control_sd15_normal.pth'): clear_output()\n",
        "\n",
        "control_sd15_openpose = False #@param {type:\"boolean\"}\n",
        "if control_sd15_openpose and (not os.path.isfile('./control_sd15_openpose.pth')):\n",
        "  !wget https://huggingface.co/lllyasviel/ControlNet/resolve/main/models/control_sd15_openpose.pth\n",
        "  if os.path.isfile('./control_sd15_openpose.pth'): clear_output()\n",
        "\n",
        "control_sd15_scribble = False #@param {type:\"boolean\"}\n",
        "if control_sd15_scribble and (not os.path.isfile('./control_sd15_scribble.pth')):\n",
        "  !wget https://huggingface.co/lllyasviel/ControlNet/resolve/main/models/control_sd15_scribble.pth\n",
        "  if os.path.isfile('./control_sd15_scribble.pth'): clear_output()\n",
        "\n",
        "control_sd15_seg = False #@param {type:\"boolean\"}\n",
        "if control_sd15_seg and (not os.path.isfile('./control_sd15_seg.pth')):\n",
        "  !wget https://huggingface.co/lllyasviel/ControlNet/resolve/main/models/control_sd15_seg.pth\n",
        "  if os.path.isfile('./control_sd15_seg.pth'): clear_output()"
      ],
      "metadata": {
        "id": "dddddddddd",
        "cellView": "form"
      },
      "execution_count": 2,
      "outputs": []
    },
    {
      "cell_type": "code",
      "source": [
        "#@title <b><font color=\"red\" size=\"+3\">←</font><font color=\"black\" size=\"+3\"> Upload image (optional)</font></b>\n",
        "#@markdown <b><font color=\"black\" size=\"+1\"> (RUS) Загрузка картинок (не обязательно)</font></b>\n",
        "%cd /content/ComfyUI/input\n",
        "uploaded = files.upload()\n",
        "for fn in uploaded.keys():\n",
        "  print('User uploaded file \"{name}\" with length {length} bytes'.format(\n",
        "      name=fn, length=len(uploaded[fn])))\n",
        "clear_output()"
      ],
      "metadata": {
        "cellView": "form",
        "id": "c1GOuxfQu_1l"
      },
      "execution_count": null,
      "outputs": []
    },
    {
      "cell_type": "code",
      "source": [
        "#@title <b><font color=\"red\" size=\"+3\">←</font><font color=\"black\" size=\"+3\"> Run</font></b>\n",
        "#@markdown <b><font color=\"black\" size=\"+1\"> (RUS) Запуск</font></b>\n",
        "print('С примерами можно ознакомиться тут: https://comfyanonymous.github.io/ComfyUI_examples/ \\n')\n",
        "%cd /content/ComfyUI\n",
        "threading.Thread(target=iframe_thread, daemon=True, args=(8188,)).start()\n",
        "!python main.py --highvram"
      ],
      "metadata": {
        "id": "hhhhhhhhhh",
        "cellView": "form"
      },
      "execution_count": null,
      "outputs": []
    }
  ]
}