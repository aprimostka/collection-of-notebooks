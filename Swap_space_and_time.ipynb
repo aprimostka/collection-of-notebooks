{
  "cells": [
    {
      "cell_type": "markdown",
      "metadata": {
        "id": "view-in-github",
        "colab_type": "text"
      },
      "source": [
        "<a href=\"https://colab.research.google.com/github/tg-bomze/collection-of-notebooks/blob/master/Swap_space_and_time.ipynb\" target=\"_parent\"><img src=\"https://colab.research.google.com/assets/colab-badge.svg\" alt=\"Open In Colab\"/></a>"
      ]
    },
    {
      "cell_type": "markdown",
      "source": [
        "\n",
        "\n",
        "---\n",
        "\n",
        "# Swap space and time"
      ],
      "metadata": {
        "id": "TtNtiwv-cZeW"
      }
    },
    {
      "cell_type": "code",
      "source": [
        "#@title <b><font color=\"red\" size=\"+3\">←</font><font color=\"black\" size=\"+3\"> Upload video</font></b>\n",
        "import os\n",
        "import cv2\n",
        "import glob\n",
        "import math\n",
        "import numpy as np\n",
        "from tqdm import tqdm\n",
        "from IPython.display import clear_output\n",
        "\n",
        "path_to_frames = '/content/frames'\n",
        "path_to_result = '/content/result'\n",
        "video_path = '/content/1_0_moose_hw250_fps25.mp4' #@param {type:\"string\"}\n",
        "\n",
        "!rm -rf $path_to_frames\n",
        "!mkdir $path_to_frames\n",
        "!ffmpeg -y -i $video_path /content/frames/%7d.png -hide_banner -loglevel error\n",
        "fps_of_video = round(cv2.VideoCapture(video_path).get(cv2.CAP_PROP_FPS))"
      ],
      "metadata": {
        "cellView": "form",
        "id": "L-S_VZaIva-M"
      },
      "execution_count": null,
      "outputs": []
    },
    {
      "cell_type": "markdown",
      "source": [
        "<a href=\"\"><img src='https://icon-library.com/images/3d-rotation-icon/3d-rotation-icon-3.jpg' width=300></a> "
      ],
      "metadata": {
        "id": "VVgOWoMJ2fM7"
      }
    },
    {
      "cell_type": "code",
      "source": [
        "#@title <b><font color=\"red\" size=\"+3\">←</font><font color=\"black\" size=\"+3\"> Swap space and time</font></b>\n",
        "rotation = \"Z\" #@param [\"X\", \"Z\"]\n",
        "reverse = False #@param {type:\"boolean\"}\n",
        "!rm -rf $path_to_result\n",
        "!mkdir $path_to_result\n",
        "paths = sorted(glob.glob(f'{path_to_frames}/*.*g'))\n",
        "if len(paths)%2: paths = paths[:-1]\n",
        "frames = [cv2.imread(i) for i in tqdm(paths)]\n",
        "video = np.array(frames)\n",
        "f, h, w = video.shape[:3]\n",
        "print('--- Input ---')\n",
        "print(f'Frames: {f}, Height: {h}, Width: {w}\\n')\n",
        "orig_h, orig_w = cv2.imread(f'{path_to_frames}/0000001.png').shape[:2]\n",
        "\n",
        "if rotation == 'Z': new_video = np.swapaxes(video, 0, 2)\n",
        "else: new_video = np.swapaxes(video, 0, 1)\n",
        "\n",
        "for i in tqdm(new_video):\n",
        "  if not reverse: name = str(len(glob.glob(f'{path_to_result}/*.*g'))).zfill(7)\n",
        "  else: name = str(len(new_video)-len(glob.glob(f'{path_to_result}/*.*g'))-1).zfill(7)\n",
        "  cv2.imwrite(f'{path_to_result}/{name}.png', i)\n",
        "\n",
        "f, h, w = new_video.shape[:3]\n",
        "print('--- Output ---')\n",
        "print(f'Frames: {f}, Height: {h}, Width: {w}')\n",
        "!ffmpeg -y -r $fps_of_video -i /content/result/%07d.png -c:v libx264 -vf fps=$fps_of_video -pix_fmt yuv420p /content/result_z.mp4 -hide_banner -loglevel error"
      ],
      "metadata": {
        "cellView": "form",
        "id": "sAf-WUtFv0d9",
        "outputId": "59d1585f-051e-4160-af91-4e42972ced99",
        "colab": {
          "base_uri": "https://localhost:8080/"
        }
      },
      "execution_count": null,
      "outputs": [
        {
          "output_type": "stream",
          "name": "stderr",
          "text": [
            "100%|██████████| 250/250 [00:00<00:00, 511.14it/s]\n"
          ]
        },
        {
          "output_type": "stream",
          "name": "stdout",
          "text": [
            "--- Input ---\n",
            "Frames: 250, Height: 250, Width: 250\n",
            "\n"
          ]
        },
        {
          "output_type": "stream",
          "name": "stderr",
          "text": [
            "100%|██████████| 250/250 [00:01<00:00, 155.29it/s]\n"
          ]
        },
        {
          "output_type": "stream",
          "name": "stdout",
          "text": [
            "--- Output ---\n",
            "Frames: 250, Height: 250, Width: 250\n"
          ]
        }
      ]
    },
    {
      "cell_type": "code",
      "source": [
        "#@title <b><font color=\"red\" size=\"+3\">←</font><font color=\"black\" size=\"+3\"> Download result</font></b>\n",
        "from google.colab import files\n",
        "files.download('/content/result_z.mp4')"
      ],
      "metadata": {
        "cellView": "form",
        "id": "Q0LavrLLd045"
      },
      "execution_count": null,
      "outputs": []
    },
    {
      "cell_type": "markdown",
      "source": [
        "\n",
        "\n",
        "---\n",
        "\n",
        "# RIFE (upscale)"
      ],
      "metadata": {
        "id": "NwqJZU9ionl3"
      }
    },
    {
      "cell_type": "code",
      "source": [
        "#@title <b><font color=\"red\" size=\"+3\">←</font><font color=\"black\" size=\"+3\"> Install</font></b>\n",
        "from IPython.display import clear_output\n",
        "!pip install sk-video moviepy\n",
        "%cd /content\n",
        "!rm -rf /content/arXiv2020-RIFE/\n",
        "!git clone https://github.com/hzwer/Practical-RIFE arXiv2020-RIFE\n",
        "%cd /content/arXiv2020-RIFE/\n",
        "!mkdir /content/arXiv2020-RIFE/train_log\n",
        "!pip install -U gdown\n",
        "!set -exo\n",
        "!gdown --id 1CPJOzo2CHr8AN3GQCGKOKMVXIdt1RBR1\n",
        "%cd /content/arXiv2020-RIFE/train_log\n",
        "!7z e /content/arXiv2020-RIFE/RIFE_trained_model_v4.1.zip\n",
        "if os.path.isfile('/content/arXiv2020-RIFE/RIFE_trained_model_v4.1.zip'):\n",
        "  clear_output()\n",
        "  print('Done!')\n",
        "else: print(\"Weights didn't download\")"
      ],
      "metadata": {
        "cellView": "form",
        "id": "092a7ypGooMn"
      },
      "execution_count": null,
      "outputs": []
    },
    {
      "cell_type": "code",
      "source": [
        "#@title <b><font color=\"red\" size=\"+3\">←</font><font color=\"black\" size=\"+3\"> Upload video</font></b>\n",
        "import os\n",
        "import cv2\n",
        "import glob\n",
        "import math\n",
        "import numpy as np\n",
        "from tqdm import tqdm\n",
        "\n",
        "path_to_frames = '/content/frames'\n",
        "path_to_result = '/content/result'\n",
        "video_path = '/content/1_0_moose_hw250_fps25.mp4' #@param {type:\"string\"}\n",
        "\n",
        "!rm -rf $path_to_frames\n",
        "!mkdir $path_to_frames\n",
        "!ffmpeg -y -i $video_path /content/frames/%7d.png -hide_banner -loglevel error\n",
        "fps_of_video = round(cv2.VideoCapture(video_path).get(cv2.CAP_PROP_FPS))"
      ],
      "metadata": {
        "cellView": "form",
        "id": "csxEVLTHdw-J"
      },
      "execution_count": null,
      "outputs": []
    },
    {
      "cell_type": "code",
      "source": [
        "#@title <b><font color=\"red\" size=\"+3\">←</font><font color=\"black\" size=\"+3\"> Swap space and time (Z-axis)</font></b>\n",
        "!rm -rf $path_to_result\n",
        "!mkdir $path_to_result\n",
        "paths = sorted(glob.glob(f'{path_to_frames}/*.*g'))\n",
        "if len(paths)%2: paths = paths[:-1]\n",
        "frames = [cv2.imread(i) for i in tqdm(paths)]\n",
        "video = np.array(frames)\n",
        "f, h, w = video.shape[:3]\n",
        "print('--- Input ---')\n",
        "print(f'Frames: {f}, Height: {h}, Width: {w}\\n')\n",
        "orig_h, orig_w = cv2.imread(f'{path_to_frames}/0000001.png').shape[:2]\n",
        "\n",
        "new_video = np.swapaxes(video, 0, 2)\n",
        "\n",
        "for i in tqdm(new_video):\n",
        "  name = str(len(glob.glob(f'{path_to_result}/*.*g'))).zfill(7)\n",
        "  cv2.imwrite(f'{path_to_result}/{name}.png', i)\n",
        "\n",
        "f, h, w = new_video.shape[:3]\n",
        "print('--- Output ---')\n",
        "print(f'Frames: {f}, Height: {h}, Width: {w}')\n",
        "!ffmpeg -y -r $fps_of_video -i /content/result/%07d.png -c:v libx264 -vf fps=$fps_of_video -pix_fmt yuv420p /content/result_z.mp4 -hide_banner -loglevel error"
      ],
      "metadata": {
        "cellView": "form",
        "id": "P6fMOw2Gadar"
      },
      "execution_count": null,
      "outputs": []
    },
    {
      "cell_type": "code",
      "source": [
        "]#@title <b><font color=\"red\" size=\"+3\">←</font><font color=\"black\" size=\"+3\"> Upscale width</font></b>\n",
        "frames_of_video = round(cv2.VideoCapture(\"/content/result_z.mp4\").get(cv2.CAP_PROP_FRAME_COUNT))\n",
        "print('--- Input ---')\n",
        "print(f'Frames (width): {frames_of_video}\\n')\n",
        "\n",
        "w_mult = \"4\" #@param [\"2\", \"4\"]\n",
        "exp = str(int(math.log(int(w_mult), 2)))\n",
        "path_to_output = '/content/rife_w.mp4'\n",
        "\n",
        "%cd /content/arXiv2020-RIFE/\n",
        "!python3 inference_video.py --exp=$exp --video /content/result_z.mp4 --output $path_to_output --fps=$fps_of_video --scale=1 --skip\n",
        "\n",
        "!rm -rf /content/frames\n",
        "!mkdir /content/frames\n",
        "!ffmpeg -y -i /content/rife_w.mp4 /content/frames/%7d.png -hide_banner -loglevel error\n",
        "\n",
        "f = int(w_mult)*orig_w\n",
        "print('\\n--- Output ---')\n",
        "print(f'Frames (width): {f}')"
      ],
      "metadata": {
        "colab": {
          "base_uri": "https://localhost:8080/"
        },
        "cellView": "form",
        "id": "oN5TtsmlpSb8",
        "outputId": "94fb8d8b-6502-4467-f866-83e7dc855233"
      },
      "execution_count": null,
      "outputs": [
        {
          "output_type": "stream",
          "name": "stdout",
          "text": [
            "--- Input ---\n",
            "Frames (width): 250\n",
            "\n",
            "/content/arXiv2020-RIFE\n",
            "skip flag is abandoned, please refer to issue #207.\n",
            "Loaded 3.x/4.x HD model.\n",
            "/content/result_z.mp4, 250.0 frames in total, 25.0FPS to 25FPS\n",
            "Will not merge audio because using png or fps flag!\n",
            "100% 249/250.0 [00:06<00:00, 40.08it/s]\n",
            "\n",
            "--- Output ---\n",
            "Frames (width): 1000\n"
          ]
        }
      ]
    },
    {
      "cell_type": "code",
      "source": [
        "#@title <b><font color=\"red\" size=\"+3\">←</font><font color=\"black\" size=\"+3\"> Swap space and time (Z-axis back, X-axis)</font></b>\n",
        "!rm -rf $path_to_result\n",
        "!mkdir $path_to_result\n",
        "paths = sorted(glob.glob(f'{path_to_frames}/*.*g'))\n",
        "if len(paths)%2: paths = paths[:-1]\n",
        "frames = [cv2.imread(i) for i in tqdm(paths)]\n",
        "video = np.array(frames)\n",
        "_, h, w = video.shape[:3]\n",
        "print('--- Input ---')\n",
        "print(f'Frames: {f}, Height: {h}, Width: {w}\\n')\n",
        "\n",
        "new_video = np.swapaxes(video, 0, 2)\n",
        "new_video = np.swapaxes(new_video, 0, 1)\n",
        "\n",
        "for i in tqdm(new_video):\n",
        "  image = cv2.resize(i, (int(w_mult)*orig_w, orig_h))\n",
        "  name = str(len(glob.glob(f'{path_to_result}/*.*g'))).zfill(7)\n",
        "  cv2.imwrite(f'{path_to_result}/{name}.png', image)\n",
        "\n",
        "f, h, w = new_video.shape[:3]\n",
        "print('--- Output ---')\n",
        "print(f'Frames: {f}, Height: {h}, Width: {int(w_mult)*orig_w}')\n",
        "!ffmpeg -y -r $fps_of_video -i /content/result/%07d.png -c:v libx264 -vf fps=$fps_of_video -pix_fmt yuv420p /content/result_z_back.mp4 -hide_banner -loglevel error"
      ],
      "metadata": {
        "colab": {
          "base_uri": "https://localhost:8080/"
        },
        "cellView": "form",
        "id": "VmDy7SBqroJU",
        "outputId": "28019bea-75b4-4b50-b69f-74b1a472e109"
      },
      "execution_count": null,
      "outputs": [
        {
          "output_type": "stream",
          "name": "stderr",
          "text": [
            "100%|██████████| 996/996 [00:01<00:00, 787.47it/s]\n"
          ]
        },
        {
          "output_type": "stream",
          "name": "stdout",
          "text": [
            "--- Input ---\n",
            "Frames: 1000, Height: 250, Width: 250\n",
            "\n"
          ]
        },
        {
          "output_type": "stream",
          "name": "stderr",
          "text": [
            "100%|██████████| 250/250 [00:04<00:00, 53.54it/s]\n"
          ]
        },
        {
          "output_type": "stream",
          "name": "stdout",
          "text": [
            "--- Output ---\n",
            "Frames: 250, Height: 250, Width: 1000\n"
          ]
        }
      ]
    },
    {
      "cell_type": "code",
      "source": [
        "#@title <b><font color=\"red\" size=\"+3\">←</font><font color=\"black\" size=\"+3\"> Upscale height</font></b>\n",
        "frames_of_video = round(cv2.VideoCapture(\"/content/result_z_back.mp4\").get(cv2.CAP_PROP_FRAME_COUNT))\n",
        "print('--- Input ---')\n",
        "print(f'Frames (height): {frames_of_video}\\n')\n",
        "\n",
        "h_mult = \"4\" #@param [\"2\", \"4\"]\n",
        "exp = str(int(math.log(int(h_mult), 2)))\n",
        "path_to_output = '/content/rife_h.mp4'\n",
        "\n",
        "%cd /content/arXiv2020-RIFE/\n",
        "!python3 inference_video.py --exp=$exp --video /content/result_z_back.mp4 --output $path_to_output --fps=$fps_of_video --scale=1 --skip\n",
        "\n",
        "!rm -rf /content/frames\n",
        "!mkdir /content/frames\n",
        "!ffmpeg -y -i /content/rife_h.mp4 /content/frames/%7d.png -hide_banner -loglevel error\n",
        "\n",
        "f = int(h_mult)*orig_h\n",
        "print('\\n--- Output ---')\n",
        "print(f'Frames (height): {f}')"
      ],
      "metadata": {
        "colab": {
          "base_uri": "https://localhost:8080/"
        },
        "cellView": "form",
        "id": "JIkrumz-tvoS",
        "outputId": "7874fde3-4c54-4438-f4c1-66a5691e3592"
      },
      "execution_count": null,
      "outputs": [
        {
          "output_type": "stream",
          "name": "stdout",
          "text": [
            "--- Input ---\n",
            "Frames (height): 250\n",
            "\n",
            "/content/arXiv2020-RIFE\n",
            "skip flag is abandoned, please refer to issue #207.\n",
            "Loaded 3.x/4.x HD model.\n",
            "/content/result_z_back.mp4, 250.0 frames in total, 25.0FPS to 25FPS\n",
            "Will not merge audio because using png or fps flag!\n",
            "100% 249/250.0 [00:06<00:00, 37.25it/s]\n",
            "\n",
            "--- Output ---\n",
            "Frames (height): 1000\n"
          ]
        }
      ]
    },
    {
      "cell_type": "code",
      "source": [
        "#@title <b><font color=\"red\" size=\"+3\">←</font><font color=\"black\" size=\"+3\"> Swap space and time (X-axis back)</font></b>\n",
        "!rm -rf $path_to_result\n",
        "!mkdir $path_to_result\n",
        "paths = sorted(glob.glob(f'{path_to_frames}/*.*g'))\n",
        "if len(paths)%2: paths = paths[:-1]\n",
        "frames = [cv2.imread(i) for i in tqdm(paths)]\n",
        "video = np.array(frames)\n",
        "_, h, w = video.shape[:3]\n",
        "print('--- Input ---')\n",
        "print(f'Frames: {f}, Height: {h}, Width: {int(w_mult)*orig_w}\\n')\n",
        "\n",
        "new_video = np.swapaxes(video, 0, 1)\n",
        "\n",
        "for i in tqdm(new_video):\n",
        "  image = cv2.resize(i, (int(w_mult)*orig_w, int(h_mult)*orig_h))\n",
        "  name = str(len(glob.glob(f'{path_to_result}/*.*g'))).zfill(7)\n",
        "  cv2.imwrite(f'{path_to_result}/{name}.png', image)\n",
        "\n",
        "f, h, w = new_video.shape[:3]\n",
        "print('--- Output ---')\n",
        "print(f'Frames: {f}, Height: {int(h_mult)*orig_h}, Width: {int(w_mult)*orig_w}')\n",
        "!ffmpeg -y -r $fps_of_video -i /content/result/%07d.png -c:v libx264 -vf fps=$fps_of_video -pix_fmt yuv420p /content/result_upscaled.mp4 -hide_banner -loglevel error"
      ],
      "metadata": {
        "colab": {
          "base_uri": "https://localhost:8080/"
        },
        "cellView": "form",
        "id": "58iroigpt5Xe",
        "outputId": "46442feb-847c-4924-fcb2-47ab9614dc02"
      },
      "execution_count": null,
      "outputs": [
        {
          "output_type": "stream",
          "name": "stderr",
          "text": [
            "100%|██████████| 996/996 [00:04<00:00, 235.09it/s]\n"
          ]
        },
        {
          "output_type": "stream",
          "name": "stdout",
          "text": [
            "--- Input ---\n",
            "Frames: 250, Height: 250, Width: 1000\n",
            "\n"
          ]
        },
        {
          "output_type": "stream",
          "name": "stderr",
          "text": [
            "100%|██████████| 250/250 [00:14<00:00, 16.95it/s]\n"
          ]
        },
        {
          "output_type": "stream",
          "name": "stdout",
          "text": [
            "--- Output ---\n",
            "Frames: 250, Height: 1000, Width: 1000\n"
          ]
        }
      ]
    },
    {
      "cell_type": "code",
      "source": [
        "#@title <b><font color=\"red\" size=\"+3\">←</font><font color=\"black\" size=\"+3\"> Download result</font></b>\n",
        "from google.colab import files\n",
        "files.download('/content/result_upscaled.mp4')"
      ],
      "metadata": {
        "cellView": "form",
        "id": "XNkMdFVceLps"
      },
      "execution_count": null,
      "outputs": []
    },
    {
      "cell_type": "markdown",
      "source": [
        "\n",
        "\n",
        "---\n",
        "\n",
        "# Real-ESRGAN (frame interpolation)"
      ],
      "metadata": {
        "id": "iGstyd96XbMQ"
      }
    },
    {
      "cell_type": "code",
      "source": [
        "#@title <b><font color=\"red\" size=\"+3\">←</font><font color=\"black\" size=\"+3\"> Install</font></b>\n",
        "from IPython.display import clear_output\n",
        "%cd /content\n",
        "!rm -rf /content/Real-ESRGAN\n",
        "!git clone https://github.com/xinntao/Real-ESRGAN\n",
        "%cd /content/Real-ESRGAN\n",
        "!git checkout 4211085\n",
        "!rm -rf /content/Real-ESRGAN/inputs/*\n",
        "!pip install -U basicsr\n",
        "!pip install -U facexlib\n",
        "!python setup.py develop\n",
        "!wget https://github.com/xinntao/Real-ESRGAN/releases/download/v0.1.0/RealESRGAN_x4plus.pth -P /content/Real-ESRGAN/experiments/pretrained_models\n",
        "!wget https://github.com/xinntao/Real-ESRGAN/releases/download/v0.2.1/RealESRGAN_x2plus.pth -P /content/Real-ESRGAN/experiments/pretrained_models\n",
        "if os.path.isfile('/content/Real-ESRGAN/experiments/pretrained_models/RealESRGAN_x4plus.pth'):\n",
        "  clear_output()\n",
        "  print('Done!')\n",
        "else: print(\"Weights didn't download\")"
      ],
      "metadata": {
        "cellView": "form",
        "id": "3A5ZV2tYXnqb"
      },
      "execution_count": null,
      "outputs": []
    },
    {
      "cell_type": "code",
      "source": [
        "#@title <b><font color=\"red\" size=\"+3\">←</font><font color=\"black\" size=\"+3\"> Upload video</font></b>\n",
        "import os\n",
        "import cv2\n",
        "import glob\n",
        "import math\n",
        "import numpy as np\n",
        "from tqdm import tqdm\n",
        "\n",
        "path_to_frames = '/content/frames'\n",
        "path_to_result = '/content/result'\n",
        "video_path = '/content/1_0_moose_hw250_fps25.mp4' #@param {type:\"string\"}\n",
        "\n",
        "!rm -rf $path_to_frames\n",
        "!mkdir $path_to_frames\n",
        "!ffmpeg -y -i $video_path /content/frames/%7d.png -hide_banner -loglevel error\n",
        "fps_of_video = round(cv2.VideoCapture(video_path).get(cv2.CAP_PROP_FPS))"
      ],
      "metadata": {
        "cellView": "form",
        "id": "BDdjL8BEfbcn"
      },
      "execution_count": null,
      "outputs": []
    },
    {
      "cell_type": "code",
      "source": [
        "#@title <b><font color=\"red\" size=\"+3\">←</font><font color=\"black\" size=\"+3\"> Swap space and time (Z-axis)</font></b>\n",
        "!rm -rf $path_to_result\n",
        "!mkdir $path_to_result\n",
        "paths = sorted(glob.glob(f'{path_to_frames}/*.*g'))\n",
        "if len(paths)%2: paths = paths[:-1]\n",
        "frames = [cv2.imread(i) for i in tqdm(paths)]\n",
        "video = np.array(frames)\n",
        "f, h, w = video.shape[:3]\n",
        "print('--- Input ---')\n",
        "print(f'Frames: {f}, Height: {h}, Width: {w}\\n')\n",
        "orig_h, orig_w = cv2.imread(f'{path_to_frames}/0000001.png').shape[:2]\n",
        "\n",
        "new_video = np.swapaxes(video, 0, 2)\n",
        "\n",
        "for i in tqdm(new_video):\n",
        "  name = str(len(glob.glob(f'{path_to_result}/*.*g'))).zfill(7)\n",
        "  cv2.imwrite(f'{path_to_result}/{name}.png', i)\n",
        "\n",
        "f, h, w = new_video.shape[:3]\n",
        "print('--- Output ---')\n",
        "print(f'Frames: {f}, Height: {h}, Width: {w}')\n",
        "!ffmpeg -y -r $fps_of_video -i /content/result/%07d.png -c:v libx264 -vf fps=$fps_of_video -pix_fmt yuv420p /content/result_z.mp4 -hide_banner -loglevel error"
      ],
      "metadata": {
        "colab": {
          "base_uri": "https://localhost:8080/"
        },
        "cellView": "form",
        "id": "M7Ct7AlsatJL",
        "outputId": "ae38da4a-5f24-4863-d451-c40c678231d5"
      },
      "execution_count": null,
      "outputs": [
        {
          "output_type": "stream",
          "name": "stderr",
          "text": [
            "100%|██████████| 250/250 [00:00<00:00, 508.49it/s]\n"
          ]
        },
        {
          "output_type": "stream",
          "name": "stdout",
          "text": [
            "--- Input ---\n",
            "Frames: 250, Height: 250, Width: 250\n",
            "\n"
          ]
        },
        {
          "output_type": "stream",
          "name": "stderr",
          "text": [
            "100%|██████████| 250/250 [00:00<00:00, 322.52it/s]\n"
          ]
        },
        {
          "output_type": "stream",
          "name": "stdout",
          "text": [
            "--- Output ---\n",
            "Frames: 250, Height: 250, Width: 250\n"
          ]
        }
      ]
    },
    {
      "cell_type": "code",
      "source": [
        "#@title <b><font color=\"red\" size=\"+3\">←</font><font color=\"black\" size=\"+3\"> Interpolate frames</font></b>\n",
        "!rm -rf /content/result/.ipynb_checkpoints /content/frames/*\n",
        "%cd /content/Real-ESRGAN\n",
        "\n",
        "slowdown_mult = 4 #@param [2, 4]\n",
        "weight = f'/content/Real-ESRGAN/experiments/pretrained_models/RealESRGAN_x{slowdown_mult}plus.pth'\n",
        "\n",
        "print(len(glob.glob(f'{path_to_result}/*.*g')))\n",
        "!python inference_realesrgan.py \\\n",
        "  --model_path $weight \\\n",
        "  --input $path_to_result \\\n",
        "  --output $path_to_frames \\\n",
        "  --netscale $slowdown_mult \\\n",
        "  --outscale $slowdown_mult \\\n",
        "  --tile 512 \\\n",
        "  --tile_pad 20\n",
        "\n",
        "if len(os.listdir(path_to_result)) == len(os.listdir(path_to_frames)):\n",
        "  clear_output()\n",
        "  print('Done!')"
      ],
      "metadata": {
        "cellView": "form",
        "id": "wYwDJ4_5aXCX"
      },
      "execution_count": null,
      "outputs": []
    },
    {
      "cell_type": "code",
      "source": [
        "#@title <b><font color=\"red\" size=\"+3\">←</font><font color=\"black\" size=\"+3\"> Swap space and time (Z-axis back)</font></b>\n",
        "!rm -rf $path_to_result\n",
        "!mkdir $path_to_result\n",
        "paths = sorted(glob.glob(f'{path_to_frames}/*.*g'))\n",
        "if len(paths)%2: paths = paths[:-1]\n",
        "frames = [cv2.imread(i) for i in tqdm(paths)]\n",
        "video = np.array(frames)\n",
        "f, h, w = video.shape[:3]\n",
        "print('--- Input ---')\n",
        "print(f'Frames: {f}, Height: {h}, Width: {w}\\n')\n",
        "\n",
        "new_video = np.swapaxes(video, 0, 2)\n",
        "\n",
        "for i in tqdm(new_video):\n",
        "  image = cv2.resize(i, (orig_w, orig_h))\n",
        "  name = str(len(glob.glob(f'{path_to_result}/*.*g'))).zfill(7)\n",
        "  cv2.imwrite(f'{path_to_result}/{name}.png', image)\n",
        "\n",
        "f, _, w = new_video.shape[:3]\n",
        "print('--- Output ---')\n",
        "print(f'Frames: {f}, Height: {orig_h}, Width: {w}')\n",
        "!ffmpeg -y -r $fps_of_video -i /content/result/%07d.png -c:v libx264 -vf fps=$fps_of_video -pix_fmt yuv420p /content/result_interpol.mp4 -hide_banner -loglevel error"
      ],
      "metadata": {
        "colab": {
          "base_uri": "https://localhost:8080/"
        },
        "cellView": "form",
        "id": "0xgWLaryg_ut",
        "outputId": "878ce07f-3905-4e81-c40f-88c493d3a553"
      },
      "execution_count": null,
      "outputs": [
        {
          "output_type": "stream",
          "name": "stderr",
          "text": [
            "100%|██████████| 250/250 [00:05<00:00, 41.93it/s]\n"
          ]
        },
        {
          "output_type": "stream",
          "name": "stdout",
          "text": [
            "--- Input ---\n",
            "Frames: 250, Height: 1000, Width: 1000\n",
            "\n"
          ]
        },
        {
          "output_type": "stream",
          "name": "stderr",
          "text": [
            "100%|██████████| 1000/1000 [00:14<00:00, 66.85it/s]\n"
          ]
        },
        {
          "output_type": "stream",
          "name": "stdout",
          "text": [
            "--- Output ---\n",
            "Frames: 1000, Height: 250, Width: 250\n"
          ]
        }
      ]
    },
    {
      "cell_type": "code",
      "source": [
        "#@title <b><font color=\"red\" size=\"+3\">←</font><font color=\"black\" size=\"+3\"> Download result</font></b>\n",
        "from google.colab import files\n",
        "files.download('/content/result_interpol.mp4')"
      ],
      "metadata": {
        "cellView": "form",
        "id": "K-sTLQShjYPc"
      },
      "execution_count": null,
      "outputs": []
    }
  ],
  "metadata": {
    "colab": {
      "collapsed_sections": [
        "TtNtiwv-cZeW",
        "NwqJZU9ionl3",
        "iGstyd96XbMQ"
      ],
      "name": "Swap space and time",
      "provenance": [],
      "include_colab_link": true
    },
    "kernelspec": {
      "display_name": "Python 3",
      "name": "python3"
    },
    "accelerator": "GPU",
    "gpuClass": "standard"
  },
  "nbformat": 4,
  "nbformat_minor": 0
}